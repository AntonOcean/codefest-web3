{
 "cells": [
  {
   "cell_type": "code",
   "execution_count": 49,
   "id": "5f982877",
   "metadata": {},
   "outputs": [],
   "source": [
    "import time\n",
    "\n",
    "from datetime import datetime\n",
    "from web3 import Web3\n",
    "from web3.middleware import geth_poa_middleware"
   ]
  },
  {
   "cell_type": "code",
   "execution_count": 50,
   "id": "3cb5bb1b",
   "metadata": {},
   "outputs": [],
   "source": [
    "ETH_RPC = 'https://mainnet.infura.io/v3/9aa3d95b3bc440fa88ea12eaa4456161'\n",
    "\n",
    "# https://rpc.info/"
   ]
  },
  {
   "cell_type": "code",
   "execution_count": 51,
   "id": "57e269b3",
   "metadata": {},
   "outputs": [],
   "source": [
    "w3 = Web3(Web3.HTTPProvider(ETH_RPC))\n",
    "\n",
    "# https://web3py.readthedocs.io/en/v5/providers.html#web3.providers.rpc.HTTPProvider"
   ]
  },
  {
   "cell_type": "code",
   "execution_count": 52,
   "id": "7da1bf4e",
   "metadata": {},
   "outputs": [
    {
     "data": {
      "text/plain": [
       "True"
      ]
     },
     "execution_count": 52,
     "metadata": {},
     "output_type": "execute_result"
    }
   ],
   "source": [
    "w3.isConnected()"
   ]
  },
  {
   "cell_type": "code",
   "execution_count": 53,
   "id": "674b6142",
   "metadata": {},
   "outputs": [
    {
     "data": {
      "text/plain": [
       "'Geth/v1.10.23-omnibus-b38477ec/linux-amd64/go1.18.5'"
      ]
     },
     "execution_count": 53,
     "metadata": {},
     "output_type": "execute_result"
    }
   ],
   "source": [
    "w3.clientVersion"
   ]
  },
  {
   "cell_type": "code",
   "execution_count": 55,
   "id": "19b6f7aa",
   "metadata": {},
   "outputs": [],
   "source": [
    "last_block = w3.eth.get_block('latest')"
   ]
  },
  {
   "cell_type": "code",
   "execution_count": 56,
   "id": "51ca9e3c",
   "metadata": {},
   "outputs": [
    {
     "data": {
      "text/plain": [
       "(16785804, '2023-03-08 23:07:38.887935')"
      ]
     },
     "execution_count": 56,
     "metadata": {},
     "output_type": "execute_result"
    }
   ],
   "source": [
    "last_block.number, str(datetime.now())"
   ]
  },
  {
   "cell_type": "code",
   "execution_count": 57,
   "id": "6f5c4ba7",
   "metadata": {},
   "outputs": [
    {
     "data": {
      "text/plain": [
       "(16785809, '2023-03-08 23:08:39.631044')"
      ]
     },
     "execution_count": 57,
     "metadata": {},
     "output_type": "execute_result"
    }
   ],
   "source": [
    "time.sleep(60)\n",
    "w3.eth.block_number, str(datetime.now())"
   ]
  },
  {
   "cell_type": "code",
   "execution_count": 58,
   "id": "b77048ba",
   "metadata": {},
   "outputs": [],
   "source": [
    "block_per_hour = (16785809 - 16785804) * 60"
   ]
  },
  {
   "cell_type": "code",
   "execution_count": 76,
   "id": "b5f6841d",
   "metadata": {},
   "outputs": [],
   "source": [
    "event_sig = w3.keccak(text=\"LiquidateBorrow(address,address,uint256,address,uint256)\").hex()"
   ]
  },
  {
   "cell_type": "code",
   "execution_count": 103,
   "id": "9b2b954d",
   "metadata": {},
   "outputs": [],
   "source": [
    "# будем смотреть блоки за последнии сутки\n",
    "\n",
    "end_block = last_block.number\n",
    "start_block = end_block - block_per_hour * 24"
   ]
  },
  {
   "cell_type": "code",
   "execution_count": 104,
   "id": "f924c43f",
   "metadata": {},
   "outputs": [],
   "source": [
    "batch = block_per_hour"
   ]
  },
  {
   "cell_type": "code",
   "execution_count": 105,
   "id": "ea7b7d0c",
   "metadata": {},
   "outputs": [
    {
     "name": "stdout",
     "output_type": "stream",
     "text": [
      "transaction id = 0x303fdcb64615c52c31c6f4d852aaf3229ae0af17e48e50b83f09dcdb23e40b4a \n",
      "token address = 0xf650C3d88D12dB855b8bf7D11Be6C55A4e07dCC9 \n",
      "\n",
      "\n",
      "transaction id = 0xddaff81e2eb00d6e4b36076b95fbd7e9a32058f0f54f9c8477cc30e85ec48357 \n",
      "token address = 0x5d3a536E4D6DbD6114cc1Ead35777bAB948E3643 \n",
      "\n",
      "\n",
      "transaction id = 0xadac5b4391ec065b8554d4002b05670310466a4a87d884c2ab416328e125a797 \n",
      "token address = 0x18A908eD663823C908A900b934D6249d4befbE44 \n",
      "\n",
      "\n",
      "transaction id = 0x2a7fcbf694ea75a79311cf740aa943a8badb1c5a8035a056b4d603c81a652371 \n",
      "token address = 0x39AA39c021dfbaE8faC545936693aC917d5E7563 \n",
      "\n",
      "\n"
     ]
    }
   ],
   "source": [
    "while start_block < end_block:\n",
    "    event_filter = w3.eth.filter({\n",
    "        \"fromBlock\": start_block,\n",
    "        \"toBlock\": start_block + batch,\n",
    "        \"topics\": [event_sig]\n",
    "    })\n",
    "\n",
    "    for event in event_filter.get_all_entries():\n",
    "        print(\n",
    "            f'transaction id = {event.transactionHash.hex()} \\n'\n",
    "            f'token address = {event.address} \\n\\n'\n",
    "        )\n",
    "    \n",
    "    start_block += batch"
   ]
  },
  {
   "cell_type": "code",
   "execution_count": null,
   "id": "6c41470a",
   "metadata": {},
   "outputs": [],
   "source": [
    "# https://etherscan.io/tx/0x303fdcb64615c52c31c6f4d852aaf3229ae0af17e48e50b83f09dcdb23e40b4a"
   ]
  }
 ],
 "metadata": {
  "kernelspec": {
   "display_name": "Python 3 (ipykernel)",
   "language": "python",
   "name": "python3"
  },
  "language_info": {
   "codemirror_mode": {
    "name": "ipython",
    "version": 3
   },
   "file_extension": ".py",
   "mimetype": "text/x-python",
   "name": "python",
   "nbconvert_exporter": "python",
   "pygments_lexer": "ipython3",
   "version": "3.9.16"
  }
 },
 "nbformat": 4,
 "nbformat_minor": 5
}
